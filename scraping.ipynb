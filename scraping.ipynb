{
 "cells": [
  {
   "cell_type": "code",
   "execution_count": 3,
   "id": "1c086dfa-c2bc-4429-a8ff-4806869c2c71",
   "metadata": {},
   "outputs": [],
   "source": [
    "import requests\n",
    "import re\n",
    "from bs4 import BeautifulSoup"
   ]
  },
  {
   "cell_type": "code",
   "execution_count": 16,
   "id": "972ad68e-c929-48e5-a98a-31a4f7982158",
   "metadata": {},
   "outputs": [],
   "source": [
    "#urls = [\"https://www.julienutrition.com/introduce-vegetables-diet/\", \"https://www.julienutrition.com/sugar-101/\", \"https://www.julienutrition.com/how-to-eat-well-on-the-go/\", \"https://www.julienutrition.com/pre-training-nutrition/\", \"https://www.julienutrition.com/create-healthy-food-environment/\", \"https://www.julienutrition.com/metabolism-101/\", \"https://www.julienutrition.com/popular-diets-reviewed-by-dietitians-and-nutritionists/\"]\n",
    "#urls = [\"https://www.julienutrition.com/why-is-drinking-water-important-how-much-water-should-you-drink/\", \"https://www.julienutrition.com/plant-based-diet/\"]\n",
    "urls = [\"https://www.health.harvard.edu/nutrition/high-protein-foods-the-best-protein-sources-to-include-in-a-healthy-diet\", \"https://www.medicalnewstoday.com/articles/321522]"
   ]
  },
  {
   "cell_type": "code",
   "execution_count": 17,
   "id": "60864fa4-f512-4350-b861-8c43535ee818",
   "metadata": {},
   "outputs": [
    {
     "name": "stdout",
     "output_type": "stream",
     "text": [
      "Can a routine vaccine prevent dementia?Some adults may need a measles booster shot. Who should get one and why?Less butter, more plant oils, longer life?Healthier planet, healthier peopleCounting steps is good — is combining steps and heart rate better?Appendix pain: Could it be appendicitis?Can saw palmetto treat an enlarged prostate?How does Ozempic work? Understanding GLP-1s for diabetes, weight loss, and beyondZinc: What it does for the body, and the best food sourcesRespiratory health harms often follow flooding: Taking these steps can help\n",
      "\n",
      "Including protein-rich foods in your diet is vital for maintaining overall health and well-being. But how much protein do you need and what are the best sources of this essential macronutrient?Proteins are building blocks in the body. They make up bones, cartilage, muscle, blood, skin, enzymes, hormones, and vitamins. They're essential for growth and development, repair and build cells and tissue such as muscle, and play an important role in body processes such as blood clotting, fluid balance, and the immune response.Proteins are made from amino acids. There are some amino acids that our bodies can make on their own. These are called nonessential amino acids. But there are nine amino acids that our bodies must get by consuming foods that contain them. These are called essential amino acids, and they are necessary for normal body functioning.We can get protein from plant or animal sources. Protein in our diet can come from meat, dairy products, nuts, some vegetables, and certain grains and beans.\n",
      "Food type\n",
      "\n",
      "Examples\n",
      "beans, peas, and lentilschickpeas, lentilsnuts and seedswalnuts, pumpkin seedslean meatschicken, turkeyfishsalmon, tunadairy productsmilk, yogurtsoy productstofuTry to eat a variety of protein-rich foods to ensure you are meeting your daily protein needs as well as getting the vitamins, minerals, and other nutrients needed for optimal health. Proteins that come from animal sources, such as meat, eggs, and milk, as well as soy and quinoa, are called complete proteins. This means they contain all the essential amino acids the body needs and are the highest-quality protein sources.You can also get essential amino acids from plant-based foods. However, most plant-based proteins do not contain all of the needed essential amino acids, and so are called incomplete proteins. If you avoid animal proteins, the best way to ensure you are consuming a healthy mix of amino acids is to enjoy a variety of plant-based proteins through the day.Foods that are particularly high in protein include:Lean meats such as chicken, turkey, beef, and pork are excellent sources of high-quality protein as well as important nutrients like iron and zinc. To avoid unhealthy saturated fat, opt for lean or low-fat meat options such as lean ground beef, pork loin, or skinless chicken breasts.Fish like salmon, tuna, and mackerel are not only rich in protein but also contain omega-3 fatty acids, which are beneficial for heart health. Look for seafood options that are lower in methylmercury, such as salmon, anchovies, and trout.Dairy products like milk, cheese, and yogurt are rich in protein, calcium, and other essential nutrients. Greek yogurt is a great option, as it is high in protein as well as nutrients such as calcium, vitamins, and minerals. Dairy products can be high in saturated fat, so choose low-fat dairy options and limit the amount of cheese you eat.Beans, peas, and lentils include kidney beans, pinto beans, white beans, black beans, lima beans, fava beans, soybeans, chickpeas, black-eyed peas, pigeon peas, split peas, lentils, and edamame. These plant-based foods are excellent sources of protein as well as fiber, folate, potassium, iron, and zinc.Nuts and seeds include almonds, hazelnuts, walnuts, peanuts, chia seeds, pumpkin seeds, sunflower seeds, and peanut butter. They are not only rich in protein but also provide healthy fats, vitamins, and minerals. Nuts are high in fat and calories, so be mindful of portion sizes.Eggs contain all of the essential amino acids, making them a complete protein source. Eggs are also a source of vitamins, minerals, healthy fats, and antioxidants.Quinoa is a plant-based protein source that is also a complete protein. A cup of cooked quinoa provides about 8 grams of protein and 5 grams of fiber. Quinoa is also a good source of minerals such as manganese, phosphorus, and copper.Soy products such as tofu and tempeh are good sources of protein, especially for vegetarians and vegans. One-quarter cup of tofu provides seven grams of protein.For the average adult, the Recommended Dietary Allowance (RDA) for protein, or the amount you need to meet your basic nutritional requirements and not get sick, is 0.8 grams of protein per kilogram of body weight, or 0.36 grams per pound. For a person who weighs 75 kg (165 pounds), that comes to 60 grams of protein per day.To determine your target daily protein intake, you can multiply your weight in pounds by 0.36, or use this online calculator.It's important to keep in mind that your daily protein need is not a fixed number. For example, your protein needs will fluctuate depending on your level of physical activity, and whether you are pregnant or breastfeeding.In order to get enough dietary protein in the most healthful way, nutritional guidelines have shifted away from specific amounts of daily protein, and toward the importance of eating healthier, protein-rich foods.It's important to think about the protein \"package\" when making protein choices because food containing protein also includes fats, carbohydrates, vitamins, minerals, sugar, sodium, additives, and other components.While meat provides high-quality protein, some meats also provide unhealthy amounts of saturated fats and sodium. If you eat meat, it's important to choose leaner meats and poultry. According to the United States Department of Agriculture (USDA), meats that are high in saturated fat include:A high-protein diet that is predominantly made up of red meat or processed meat is a cause for concern. Research has consistently found that both unprocessed and processed red meat are linked to higher risks of cardiovascular disease and diabetes. One meta-analysis found that replacing red meat with healthy plant proteins decreased the risk of cardiovascular disease.For optimal health and nutrition, you should emphasize plant-based protein and protein from a variety of sources. The Mediterranean style of eating is one approach that emphasizes healthy protein sources.While most Americans consume more than enough protein, some people may benefit from a higher intake of protein.If you are over age 50, you should increase protein intake to one gram per kilogram of your body weight just to maintain muscle mass, which declines with age.If you're trying to gain muscle mass, a higher-protein diet can help support muscle repair and growth. When you exercise, muscle cells break down. Protein from food helps to repair the damage, ultimately strengthening muscles.The value of high-protein diets for weight loss remains controversial. However, one meta-analysis found that a high-protein diet could lead to weight loss and prevent weight regain after weight loss. The authors note the need for future studies that follow patients for longer than one year for more insight into this issue.One study found that eating plant-based protein was associated with lower odds of developing cognitive decline later in life. For every 5% of calories that came from plant protein instead of carbohydrates, researchers observed a 26% lower risk for developing dementia in study participants.The idea of an upper limit of protein intake is controversial. Some experts believe the recommended amounts are too low. Others believe we are overconsuming protein.In general, the average person (not a body builder or an elite athlete) does not need high levels of protein and should not exceed 2 grams per kilogram; or about 125 grams per day for a 140-pound person.A main concern with taking in too much protein is an overall dietary imbalance. Consuming excessive protein may lead to inadequate intake of carbohydrates and fats. It's important to maintain a well-rounded diet that includes a balance of all three macronutrients for overall health.In addition, if you increase your protein intake without increasing physical activity, you may be taking in too many calories without expending enough, which could result in weight gain.There is also some evidence that eating a relatively high-protein diet can be problematic for individuals with pre-existing kidney conditions. A diet high in animal protein may pose a higher risk of kidney stones.\n",
      "Jenette Restivo, \n",
      "                        Health Writer; Assistant Director for Digital Content Creation and Engagement, Harvard Health Publishing\n",
      "                    \n",
      "Teresa Fung, MS, RD, ScD, \n",
      "                        Contributor; Editorial Advisory Board Member, Harvard Health Publishing\n",
      "                    \n",
      "        As a service to our readers, Harvard Health Publishing provides access to our library of archived content. Please note the date of last review or update on all articles.\n",
      "    \n",
      "        No content on this site, regardless of date, should ever be used as a substitute for direct medical advice from your doctor or other qualified clinician.\n",
      "    Can a routine vaccine prevent dementia?Some adults may need a measles booster shot. Who should get one and why?Less butter, more plant oils, longer life?Healthier planet, healthier peopleCounting steps is good — is combining steps and heart rate better?Appendix pain: Could it be appendicitis?Can saw palmetto treat an enlarged prostate?How does Ozempic work? Understanding GLP-1s for diabetes, weight loss, and beyondZinc: What it does for the body, and the best food sourcesRespiratory health harms often follow flooding: Taking these steps can helpHeart HealthMind &amp; MoodMind &amp; MoodGet the latest in health news delivered to your inbox!\n",
      "                    © 2025 Harvard Health Publishing® of The President and Fellows of Harvard College\n",
      "                Do not sell my personal information | Privacy Policy and Terms of UseThanks for visiting. Don't miss your FREE gift.The Best Diets for Cognitive Fitness, is yours absolutely FREE when you sign up to receive Health Alerts from Harvard Medical SchoolSign up to get tips for living a healthy lifestyle, with ways to  fight inflammation and improve cognitive health, plus the latest advances in preventative medicine, diet and exercise, pain relief, blood pressure and cholesterol management, and more.Health Alerts from Harvard Medical SchoolGet helpful tips and guidance for everything from fighting inflammation to finding the best diets for weight loss...from exercises to build a stronger core to advice on treating cataracts. PLUS, the latest news on medical advances and breakthroughs from Harvard Medical School experts.BONUS! Sign up now and get a FREE copy of theBest Diets for Cognitive FitnessStay on top of latest health news from Harvard Medical School.Plus, get a FREE copy of the Best Diets for Cognitive Fitness.Stay on top of latest health news from Harvard Medical School.Plus, get a FREE copy of the Best Diets for Cognitive Fitness.\n",
      "Can a routine vaccine prevent dementia?Some adults may need a measles booster shot. Who should get one and why?Less butter, more plant oils, longer life?Healthier planet, healthier peopleCounting steps is good — is combining steps and heart rate better?Appendix pain: Could it be appendicitis?Can saw palmetto treat an enlarged prostate?How does Ozempic work? Understanding GLP-1s for diabetes, weight loss, and beyondZinc: What it does for the body, and the best food sourcesRespiratory health harms often follow flooding: Taking these steps can help\n",
      "\n",
      "Including protein-rich foods in your diet is vital for maintaining overall health and well-being. But how much protein do you need and what are the best sources of this essential macronutrient?Proteins are building blocks in the body. They make up bones, cartilage, muscle, blood, skin, enzymes, hormones, and vitamins. They're essential for growth and development, repair and build cells and tissue such as muscle, and play an important role in body processes such as blood clotting, fluid balance, and the immune response.Proteins are made from amino acids. There are some amino acids that our bodies can make on their own. These are called nonessential amino acids. But there are nine amino acids that our bodies must get by consuming foods that contain them. These are called essential amino acids, and they are necessary for normal body functioning.We can get protein from plant or animal sources. Protein in our diet can come from meat, dairy products, nuts, some vegetables, and certain grains and beans.\n",
      "Food type\n",
      "\n",
      "Examples\n",
      "beans, peas, and lentilschickpeas, lentilsnuts and seedswalnuts, pumpkin seedslean meatschicken, turkeyfishsalmon, tunadairy productsmilk, yogurtsoy productstofuTry to eat a variety of protein-rich foods to ensure you are meeting your daily protein needs as well as getting the vitamins, minerals, and other nutrients needed for optimal health. Proteins that come from animal sources, such as meat, eggs, and milk, as well as soy and quinoa, are called complete proteins. This means they contain all the essential amino acids the body needs and are the highest-quality protein sources.You can also get essential amino acids from plant-based foods. However, most plant-based proteins do not contain all of the needed essential amino acids, and so are called incomplete proteins. If you avoid animal proteins, the best way to ensure you are consuming a healthy mix of amino acids is to enjoy a variety of plant-based proteins through the day.Foods that are particularly high in protein include:Lean meats such as chicken, turkey, beef, and pork are excellent sources of high-quality protein as well as important nutrients like iron and zinc. To avoid unhealthy saturated fat, opt for lean or low-fat meat options such as lean ground beef, pork loin, or skinless chicken breasts.Fish like salmon, tuna, and mackerel are not only rich in protein but also contain omega-3 fatty acids, which are beneficial for heart health. Look for seafood options that are lower in methylmercury, such as salmon, anchovies, and trout.Dairy products like milk, cheese, and yogurt are rich in protein, calcium, and other essential nutrients. Greek yogurt is a great option, as it is high in protein as well as nutrients such as calcium, vitamins, and minerals. Dairy products can be high in saturated fat, so choose low-fat dairy options and limit the amount of cheese you eat.Beans, peas, and lentils include kidney beans, pinto beans, white beans, black beans, lima beans, fava beans, soybeans, chickpeas, black-eyed peas, pigeon peas, split peas, lentils, and edamame. These plant-based foods are excellent sources of protein as well as fiber, folate, potassium, iron, and zinc.Nuts and seeds include almonds, hazelnuts, walnuts, peanuts, chia seeds, pumpkin seeds, sunflower seeds, and peanut butter. They are not only rich in protein but also provide healthy fats, vitamins, and minerals. Nuts are high in fat and calories, so be mindful of portion sizes.Eggs contain all of the essential amino acids, making them a complete protein source. Eggs are also a source of vitamins, minerals, healthy fats, and antioxidants.Quinoa is a plant-based protein source that is also a complete protein. A cup of cooked quinoa provides about 8 grams of protein and 5 grams of fiber. Quinoa is also a good source of minerals such as manganese, phosphorus, and copper.Soy products such as tofu and tempeh are good sources of protein, especially for vegetarians and vegans. One-quarter cup of tofu provides seven grams of protein.For the average adult, the Recommended Dietary Allowance (RDA) for protein, or the amount you need to meet your basic nutritional requirements and not get sick, is 0.8 grams of protein per kilogram of body weight, or 0.36 grams per pound. For a person who weighs 75 kg (165 pounds), that comes to 60 grams of protein per day.To determine your target daily protein intake, you can multiply your weight in pounds by 0.36, or use this online calculator.It's important to keep in mind that your daily protein need is not a fixed number. For example, your protein needs will fluctuate depending on your level of physical activity, and whether you are pregnant or breastfeeding.In order to get enough dietary protein in the most healthful way, nutritional guidelines have shifted away from specific amounts of daily protein, and toward the importance of eating healthier, protein-rich foods.It's important to think about the protein \"package\" when making protein choices because food containing protein also includes fats, carbohydrates, vitamins, minerals, sugar, sodium, additives, and other components.While meat provides high-quality protein, some meats also provide unhealthy amounts of saturated fats and sodium. If you eat meat, it's important to choose leaner meats and poultry. According to the United States Department of Agriculture (USDA), meats that are high in saturated fat include:A high-protein diet that is predominantly made up of red meat or processed meat is a cause for concern. Research has consistently found that both unprocessed and processed red meat are linked to higher risks of cardiovascular disease and diabetes. One meta-analysis found that replacing red meat with healthy plant proteins decreased the risk of cardiovascular disease.For optimal health and nutrition, you should emphasize plant-based protein and protein from a variety of sources. The Mediterranean style of eating is one approach that emphasizes healthy protein sources.While most Americans consume more than enough protein, some people may benefit from a higher intake of protein.If you are over age 50, you should increase protein intake to one gram per kilogram of your body weight just to maintain muscle mass, which declines with age.If you're trying to gain muscle mass, a higher-protein diet can help support muscle repair and growth. When you exercise, muscle cells break down. Protein from food helps to repair the damage, ultimately strengthening muscles.The value of high-protein diets for weight loss remains controversial. However, one meta-analysis found that a high-protein diet could lead to weight loss and prevent weight regain after weight loss. The authors note the need for future studies that follow patients for longer than one year for more insight into this issue.One study found that eating plant-based protein was associated with lower odds of developing cognitive decline later in life. For every 5% of calories that came from plant protein instead of carbohydrates, researchers observed a 26% lower risk for developing dementia in study participants.The idea of an upper limit of protein intake is controversial. Some experts believe the recommended amounts are too low. Others believe we are overconsuming protein.In general, the average person (not a body builder or an elite athlete) does not need high levels of protein and should not exceed 2 grams per kilogram; or about 125 grams per day for a 140-pound person.A main concern with taking in too much protein is an overall dietary imbalance. Consuming excessive protein may lead to inadequate intake of carbohydrates and fats. It's important to maintain a well-rounded diet that includes a balance of all three macronutrients for overall health.In addition, if you increase your protein intake without increasing physical activity, you may be taking in too many calories without expending enough, which could result in weight gain.There is also some evidence that eating a relatively high-protein diet can be problematic for individuals with pre-existing kidney conditions. A diet high in animal protein may pose a higher risk of kidney stones.\n",
      "Jenette Restivo, \n",
      "                        Health Writer; Assistant Director for Digital Content Creation and Engagement, Harvard Health Publishing\n",
      "                    \n",
      "Teresa Fung, MS, RD, ScD, \n",
      "                        Contributor; Editorial Advisory Board Member, Harvard Health Publishing\n",
      "                    \n",
      "        As a service to our readers, Harvard Health Publishing provides access to our library of archived content. Please note the date of last review or update on all articles.\n",
      "    \n",
      "        No content on this site, regardless of date, should ever be used as a substitute for direct medical advice from your doctor or other qualified clinician.\n",
      "    Can a routine vaccine prevent dementia?Some adults may need a measles booster shot. Who should get one and why?Less butter, more plant oils, longer life?Healthier planet, healthier peopleCounting steps is good — is combining steps and heart rate better?Appendix pain: Could it be appendicitis?Can saw palmetto treat an enlarged prostate?How does Ozempic work? Understanding GLP-1s for diabetes, weight loss, and beyondZinc: What it does for the body, and the best food sourcesRespiratory health harms often follow flooding: Taking these steps can helpHeart HealthMind &amp; MoodMind &amp; MoodGet the latest in health news delivered to your inbox!\n",
      "                    © 2025 Harvard Health Publishing® of The President and Fellows of Harvard College\n",
      "                Do not sell my personal information | Privacy Policy and Terms of UseThanks for visiting. Don't miss your FREE gift.The Best Diets for Cognitive Fitness, is yours absolutely FREE when you sign up to receive Health Alerts from Harvard Medical SchoolSign up to get tips for living a healthy lifestyle, with ways to  fight inflammation and improve cognitive health, plus the latest advances in preventative medicine, diet and exercise, pain relief, blood pressure and cholesterol management, and more.Health Alerts from Harvard Medical SchoolGet helpful tips and guidance for everything from fighting inflammation to finding the best diets for weight loss...from exercises to build a stronger core to advice on treating cataracts. PLUS, the latest news on medical advances and breakthroughs from Harvard Medical School experts.BONUS! Sign up now and get a FREE copy of theBest Diets for Cognitive FitnessStay on top of latest health news from Harvard Medical School.Plus, get a FREE copy of the Best Diets for Cognitive Fitness.Stay on top of latest health news from Harvard Medical School.Plus, get a FREE copy of the Best Diets for Cognitive Fitness.There is a wide range of high-protein foods. These can include various fruits and vegetables, dairy products, meat, seeds, and more. Eating foods high in protein has many benefits, including muscle building and feeling fuller after eating. Although eating lots of protein may be beneficial, eating a balanced diet is essential to staying healthy.Protein is an essential nutrient that is important in many bodily functions. It provides the building blocks for cells and helps to maintain muscle mass. Most healthy adults need to consume at least 0.8 grams (g) of protein per kilogram of body weight (or 0.36 g per pound of body weight). However, an individual’s protein goals may vary depending on physical activity level and medical history.The following are some of the best high protein foods that a person can consume.Salmon is a fatty fish, meaning it is full of omega-3 fatty acids. Salmon is also an excellent source of protein and can help a person feel more satisfied at meals. 100 g of salmon fillet contains 22.1 g of protein.Chicken breast is a lean source of protein. When served without skin, the majority of its calories come directly from protein.A 100 g skinless chicken breast provides around 22.5 g of protein.Beef offers high amounts of protein per serving. A 100 g serving of ground beef contains about 25.1 g of protein.There is a range of different types of beef to choose from. It is best to choose lean beef as much as possible to help limit intake of saturated fats to no more than 6% of daily calories for optimal heart health.Tuna is an excellent and widely available source of protein. It is also a great source of heart-healthy unsaturated fatty acids.100 g of drained, canned tuna contains around 23.6 g of protein.Bison meat is another excellent source of protein. Bison is lean meat, offering less fat per serving than beef. Bison is becoming more available, and some people use it as a substitute for beef.100 g of bison contains around 25.4 g of protein.Lean pork is a good source of protein. Pork roasts and tenderloin are good choices for meals. People should avoid processed pork products such as bacon because they are higher in saturated fat and sodium.One 100 g serving of pork contains 16.9 g of protein.Turkey is a popular lean protein source. Cooked turkey breast can provide about 30.1 g of protein per 100 g.Halibut is a type of white fish. It is an excellent source of lean protein, with around 18.4 g of protein per 100 g.Below are some examples of high protein foods suitable for people following a vegetarian diet.Eggs are an excellent source of protein, nutrients, and healthful fats, with 100 g containing about 12.4 g of protein.Plain, low-fat Greek yogurt packs as much as 9.95 g of protein in a 100 g serving. Flavored Greek yogurts often contain a lot of added sugar, so be sure to read the nutrition label.Cottage cheese is a dairy product that has an abundance of protein. It also offers a healthful serving of calcium and other nutrients. A 100 g serving of cottage cheese contains around 11.1 g of protein.Cow’s milk is an excellent source of protein for people who can tolerate drinking milk. A 1 cup (244 g) serving of milk contains 8 g of protein.Nut butters, including peanut butter and almond butter, are another quick and easy way to add protein to the diet.The amount of protein per serving can depend on the type of nut butter.Whey protein powder is a supplement that is popular among bodybuilders and athletes aiming to increase muscle mass and strength. This powder is made from proteins found in the liquid part of milk, which are left over during cheese production. It can add a substantial amount of protein to a person’s diet.Below are some examples of high protein foods that are suitable for people following a vegan diet.Tofu is a popular plant-based protein source. It contains around 10 g of protein per 100 g.Tempeh comes from soybeans, like tofu. However, it has a higher protein count than tofu, offering about 20.3 g of protein per 100 g.A person can usually find tempeh in the refrigerated produce section at the grocery store, often right next to the tofu.Peas are high in protein, fiber, and other nutrients. Frozen peas are inexpensive, easy to find, and suitable in a lot of recipes.Cooked green peas offer about 5.15 g of protein per 100 g.Chickpeas are high in protein and fiber, and full of nutrients that support heart and bone health. 100 g of dry chickpeas contains around 21.3 g of protein.Quinoa is one of the only complete sources of vegetarian protein. 100 g of quinoa contains around 4.4 g of protein.It contains all nine essential amino acids, making it an excellent choice for vegetarians, vegans, and those who do not eat a lot of protein from animal sources.Lentils pack a hefty dose of plant protein and fiber. They are very affordable and may promote heart health.100 g of cooked lentils contains around 9 g of protein.Black beans can be an inexpensive source of protein. A person can prepare black beans in various ways, making them a very versatile ingredient when preparing meals.100 g of black beans contains around 8.86 g of protein.Lima beans can add variety to types of salad, stir fry, and rice bowls. A 100 g serving of canned lima beans provides about 4.93 g of protein.Broccoli is higher in protein than many other vegetables. It is not a high protein food on its own, but a person might choose it over other vegetables if they are prioritizing protein intake. 100 g of chopped raw broccoli has around 2.82 g of protein and contains a variety of nutrients such as folate and potassium. This vegetable is also low in calories, with around 34 calories per 100 g.Like broccoli, cauliflower offers a lot of protein compared to its low calorie count. 100 g of chopped cauliflower has 25 calories and 1.92 g of protein.Also known as napa cabbage, Chinese cabbage is a vegetable that is full of antioxidants.While it is not as high in protein as some other sources, 100 g of cooked napa cabbage adds 1.1 g of protein to your daily intake.Artichokes are high in fiber and offer a good amount of protein. 100 g of artichokes provides about 2.89 g of protein.Asparagus gets over one-quarter of its calories from protein. It is also full of nutrients, including B vitamins, and is low in carbohydrates.This vegetable provides about 2.4 g per 100 g, which is approximately four boiled asparagus spears.Brussels sprouts are a good source of protein, fiber, and vitamins. 100 g contains around 3.38 g of protein.Oats offer about 13.15 g of protein per 100 g and are also a source of complex carbohydrates. Raw oats are easy to prepare as oatmeal, and people can flavor them with a variety of healthful foods, such as fruits and nuts.People can use hemp seeds in salads as a substitute for croutons. Hemp seeds offer 31.6 g of protein per 100 g.Pumpkin seeds are full of protein and minerals, such as magnesium and selenium. 100 g of pumpkin seeds contains 29.84 g of protein. A typical serving size is 1 ounce, or roughly 28.35 g.This tiny seed packs around 16.5 g of protein per 100 g and omega-3s, fiber, and calcium. However, a typical serving is 1 oz, or 28.35 g.People following a vegan diet often use chia seeds as an egg substitute, and many people enjoy adding them to smoothies or salads for extra health benefits.Avocados not only contain protein and unsaturated fat but also good levels of fiber and nutrients, such as potassium.Avocado contains 1.96 g of protein per 100 g.Guava is a small tropical fruit with a sweet flavor. Guava is one of the most protein-rich fruits available, with about 2.55 g of protein per 100 g. It also offers additional nutrients, such as vitamin C.Nuts are an excellent source of healthy fats. They make a calorie-dense, protein-rich snack that can help you stay full for longer.100 g of almonds contains 21.2g of protein. However, a typical serving is around 1 ounce, or roughly 28.35 g.Pistachios contain a big serving of protein while also being lower in calories compared to many other nuts. 100 g of pistachios contains 20.2 g of protein. However, a typical serving is 1 oz, or 28.35 g.Spirulina is a bacteria that grows in both fresh and salt waters. It offers a variety of nutrients and protein from a small amount of its powdered form.100 g of spirulina contains around 57.5 g of protein.Spelt is a type of hulled wheat with a very high protein content. It has risen in popularity and is often available with specialty flours.Spelt flour contains 14.5 g of protein per 100 g.There are many potential sources of protein. Many protein sources offer additional nutrients that benefit overall health.Aiming for a balanced diet with a variety of protein sources can help a person maximize healthy fats, vitamins, minerals, and fiber. Share this articleVegetables are good sources of vitamins, minerals, and fiber. Some are also good sources of protein. Learn about the top 10 vegetables for protein…Protein is an important part of anyone’s diet. A person can increase the amount of protein that they consume in various ways, including eating certain…Protein is one of the three nutrients that the body needs in large quantities. It is essential to maintain and build body tissues and muscle. Not…Vitamin D supplementation may help manage hypertension, particularly in older adults with overweight or obesity, a new study suggests.Celtic sea salt contains trace amounts of healthy minerals, but its benefits do not differ significantly from other types of salt. Learn more about…OUR BRANDS\n"
     ]
    }
   ],
   "source": [
    "def extract_html(url):\n",
    "    # Complete this function\n",
    "    res = requests.get(url)\n",
    "    return res.text\n",
    "def remove_tags(string):\n",
    "    pass\n",
    "text = \"\"\n",
    "for i in urls: \n",
    "    html = extract_html(i)\n",
    "    #For the first link url1\n",
    "    html_parser = BeautifulSoup(html, 'html.parser')\n",
    "    for p in html_parser.find_all(\"p\"):\n",
    "        cleanedText = re.sub(r'<[^>]+>', '', str(p))\n",
    "        text += cleanedText\n",
    "    print(text)\n",
    "    "
   ]
  },
  {
   "cell_type": "code",
   "execution_count": null,
   "id": "5eed5ed7-4940-4cb3-a672-ac54dfcf17c0",
   "metadata": {},
   "outputs": [],
   "source": []
  },
  {
   "cell_type": "code",
   "execution_count": 11,
   "id": "3a499620-45fe-4154-aeaf-6a80ffe4d6f8",
   "metadata": {},
   "outputs": [
    {
     "data": {
      "text/plain": [
       "44435"
      ]
     },
     "execution_count": 11,
     "metadata": {},
     "output_type": "execute_result"
    }
   ],
   "source": [
    "# text2 = \"\"\n",
    "# html2 = extract_html(url2)\n",
    "# # print(html2)\n",
    "# html_parser2 = BeautifulSoup(html2, 'html.parser')\n",
    "# for p in html_parser2.find_all(\"p\"):\n",
    "#     cleanedText = re.sub(r'<[^>]+>', '', str(p))\n",
    "#     text2 += cleanedText\n",
    "# # print(text2)\n",
    "# text += text2\n",
    "# print(text)\n",
    "fd = open(\"webtext.txt\", \"a\")\n",
    "fd.write(text)\n",
    "\n"
   ]
  },
  {
   "cell_type": "code",
   "execution_count": 10,
   "id": "162ebd21-f5e5-4dc8-bb9f-6be5f8d0a608",
   "metadata": {},
   "outputs": [],
   "source": []
  },
  {
   "cell_type": "raw",
   "id": "9d834462-5429-4149-ab95-0b29fce34c21",
   "metadata": {},
   "source": []
  },
  {
   "cell_type": "code",
   "execution_count": null,
   "id": "ac1b5d08-d9a3-49cb-897b-76ed54737456",
   "metadata": {},
   "outputs": [],
   "source": []
  }
 ],
 "metadata": {
  "kernelspec": {
   "display_name": "Python 3 (ipykernel)",
   "language": "python",
   "name": "python3"
  },
  "language_info": {
   "codemirror_mode": {
    "name": "ipython",
    "version": 3
   },
   "file_extension": ".py",
   "mimetype": "text/x-python",
   "name": "python",
   "nbconvert_exporter": "python",
   "pygments_lexer": "ipython3",
   "version": "3.9.8"
  }
 },
 "nbformat": 4,
 "nbformat_minor": 5
}
